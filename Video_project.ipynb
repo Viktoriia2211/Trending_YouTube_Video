{
  "metadata": {
    "language_info": {
      "codemirror_mode": {
        "name": "python",
        "version": 3
      },
      "file_extension": ".py",
      "mimetype": "text/x-python",
      "name": "python",
      "nbconvert_exporter": "python",
      "pygments_lexer": "ipython3",
      "version": "3.8"
    },
    "kernelspec": {
      "name": "python",
      "display_name": "Python (Pyodide)",
      "language": "python"
    }
  },
  "nbformat_minor": 4,
  "nbformat": 4,
  "cells": [
    {
      "cell_type": "markdown",
      "source": "# Trending YouTube Video\n",
      "metadata": {}
    },
    {
      "cell_type": "code",
      "source": "",
      "metadata": {},
      "execution_count": null,
      "outputs": []
    },
    {
      "cell_type": "markdown",
      "source": "### Data Cleaning and Preprocessing",
      "metadata": {}
    },
    {
      "cell_type": "markdown",
      "source": "Imports the necessary libraries. Pandas is a Python library for data analysis and manipulation.",
      "metadata": {}
    },
    {
      "cell_type": "code",
      "source": "import pandas as pd",
      "metadata": {
        "trusted": true
      },
      "execution_count": 4,
      "outputs": []
    },
    {
      "cell_type": "markdown",
      "source": "Read the CSV file into a Pandas DataFrame:\n",
      "metadata": {}
    },
    {
      "cell_type": "code",
      "source": "df = pd.read_csv('USvideos.csv')",
      "metadata": {
        "trusted": true
      },
      "execution_count": 5,
      "outputs": []
    },
    {
      "cell_type": "code",
      "source": "df.head()",
      "metadata": {
        "trusted": true
      },
      "execution_count": 6,
      "outputs": [
        {
          "execution_count": 6,
          "output_type": "execute_result",
          "data": {
            "text/plain": "      video_id trending_date  \\\n0  2kyS6SvSYSE      17.14.11   \n1  1ZAPwfrtAFY      17.14.11   \n2  5qpjK5DgCt4      17.14.11   \n3  puqaWrEC7tY      17.14.11   \n4  d380meD0W0M      17.14.11   \n\n                                               title          channel_title  \\\n0                 WE WANT TO TALK ABOUT OUR MARRIAGE           CaseyNeistat   \n1  The Trump Presidency: Last Week Tonight with J...        LastWeekTonight   \n2  Racist Superman | Rudy Mancuso, King Bach & Le...           Rudy Mancuso   \n3                   Nickelback Lyrics: Real or Fake?  Good Mythical Morning   \n4                           I Dare You: GOING BALD!?               nigahiga   \n\n   category_id              publish_time  \\\n0           22  2017-11-13T17:13:01.000Z   \n1           24  2017-11-13T07:30:00.000Z   \n2           23  2017-11-12T19:05:24.000Z   \n3           24  2017-11-13T11:00:04.000Z   \n4           24  2017-11-12T18:01:41.000Z   \n\n                                                tags    views   likes  \\\n0                                    SHANtell martin   748374   57527   \n1  last week tonight trump presidency|\"last week ...  2418783   97185   \n2  racist superman|\"rudy\"|\"mancuso\"|\"king\"|\"bach\"...  3191434  146033   \n3  rhett and link|\"gmm\"|\"good mythical morning\"|\"...   343168   10172   \n4  ryan|\"higa\"|\"higatv\"|\"nigahiga\"|\"i dare you\"|\"...  2095731  132235   \n\n   dislikes  comment_count                                  thumbnail_link  \\\n0      2966          15954  https://i.ytimg.com/vi/2kyS6SvSYSE/default.jpg   \n1      6146          12703  https://i.ytimg.com/vi/1ZAPwfrtAFY/default.jpg   \n2      5339           8181  https://i.ytimg.com/vi/5qpjK5DgCt4/default.jpg   \n3       666           2146  https://i.ytimg.com/vi/puqaWrEC7tY/default.jpg   \n4      1989          17518  https://i.ytimg.com/vi/d380meD0W0M/default.jpg   \n\n   comments_disabled  ratings_disabled  video_error_or_removed  \\\n0              False             False                   False   \n1              False             False                   False   \n2              False             False                   False   \n3              False             False                   False   \n4              False             False                   False   \n\n                                         description  \n0  SHANTELL'S CHANNEL - https://www.youtube.com/s...  \n1  One year after the presidential election, John...  \n2  WATCH MY PREVIOUS VIDEO ▶ \\n\\nSUBSCRIBE ► http...  \n3  Today we find out if Link is a Nickelback amat...  \n4  I know it's been a while since we did this sho...  ",
            "text/html": "<div>\n<style scoped>\n    .dataframe tbody tr th:only-of-type {\n        vertical-align: middle;\n    }\n\n    .dataframe tbody tr th {\n        vertical-align: top;\n    }\n\n    .dataframe thead th {\n        text-align: right;\n    }\n</style>\n<table border=\"1\" class=\"dataframe\">\n  <thead>\n    <tr style=\"text-align: right;\">\n      <th></th>\n      <th>video_id</th>\n      <th>trending_date</th>\n      <th>title</th>\n      <th>channel_title</th>\n      <th>category_id</th>\n      <th>publish_time</th>\n      <th>tags</th>\n      <th>views</th>\n      <th>likes</th>\n      <th>dislikes</th>\n      <th>comment_count</th>\n      <th>thumbnail_link</th>\n      <th>comments_disabled</th>\n      <th>ratings_disabled</th>\n      <th>video_error_or_removed</th>\n      <th>description</th>\n    </tr>\n  </thead>\n  <tbody>\n    <tr>\n      <th>0</th>\n      <td>2kyS6SvSYSE</td>\n      <td>17.14.11</td>\n      <td>WE WANT TO TALK ABOUT OUR MARRIAGE</td>\n      <td>CaseyNeistat</td>\n      <td>22</td>\n      <td>2017-11-13T17:13:01.000Z</td>\n      <td>SHANtell martin</td>\n      <td>748374</td>\n      <td>57527</td>\n      <td>2966</td>\n      <td>15954</td>\n      <td>https://i.ytimg.com/vi/2kyS6SvSYSE/default.jpg</td>\n      <td>False</td>\n      <td>False</td>\n      <td>False</td>\n      <td>SHANTELL'S CHANNEL - https://www.youtube.com/s...</td>\n    </tr>\n    <tr>\n      <th>1</th>\n      <td>1ZAPwfrtAFY</td>\n      <td>17.14.11</td>\n      <td>The Trump Presidency: Last Week Tonight with J...</td>\n      <td>LastWeekTonight</td>\n      <td>24</td>\n      <td>2017-11-13T07:30:00.000Z</td>\n      <td>last week tonight trump presidency|\"last week ...</td>\n      <td>2418783</td>\n      <td>97185</td>\n      <td>6146</td>\n      <td>12703</td>\n      <td>https://i.ytimg.com/vi/1ZAPwfrtAFY/default.jpg</td>\n      <td>False</td>\n      <td>False</td>\n      <td>False</td>\n      <td>One year after the presidential election, John...</td>\n    </tr>\n    <tr>\n      <th>2</th>\n      <td>5qpjK5DgCt4</td>\n      <td>17.14.11</td>\n      <td>Racist Superman | Rudy Mancuso, King Bach &amp; Le...</td>\n      <td>Rudy Mancuso</td>\n      <td>23</td>\n      <td>2017-11-12T19:05:24.000Z</td>\n      <td>racist superman|\"rudy\"|\"mancuso\"|\"king\"|\"bach\"...</td>\n      <td>3191434</td>\n      <td>146033</td>\n      <td>5339</td>\n      <td>8181</td>\n      <td>https://i.ytimg.com/vi/5qpjK5DgCt4/default.jpg</td>\n      <td>False</td>\n      <td>False</td>\n      <td>False</td>\n      <td>WATCH MY PREVIOUS VIDEO ▶ \\n\\nSUBSCRIBE ► http...</td>\n    </tr>\n    <tr>\n      <th>3</th>\n      <td>puqaWrEC7tY</td>\n      <td>17.14.11</td>\n      <td>Nickelback Lyrics: Real or Fake?</td>\n      <td>Good Mythical Morning</td>\n      <td>24</td>\n      <td>2017-11-13T11:00:04.000Z</td>\n      <td>rhett and link|\"gmm\"|\"good mythical morning\"|\"...</td>\n      <td>343168</td>\n      <td>10172</td>\n      <td>666</td>\n      <td>2146</td>\n      <td>https://i.ytimg.com/vi/puqaWrEC7tY/default.jpg</td>\n      <td>False</td>\n      <td>False</td>\n      <td>False</td>\n      <td>Today we find out if Link is a Nickelback amat...</td>\n    </tr>\n    <tr>\n      <th>4</th>\n      <td>d380meD0W0M</td>\n      <td>17.14.11</td>\n      <td>I Dare You: GOING BALD!?</td>\n      <td>nigahiga</td>\n      <td>24</td>\n      <td>2017-11-12T18:01:41.000Z</td>\n      <td>ryan|\"higa\"|\"higatv\"|\"nigahiga\"|\"i dare you\"|\"...</td>\n      <td>2095731</td>\n      <td>132235</td>\n      <td>1989</td>\n      <td>17518</td>\n      <td>https://i.ytimg.com/vi/d380meD0W0M/default.jpg</td>\n      <td>False</td>\n      <td>False</td>\n      <td>False</td>\n      <td>I know it's been a while since we did this sho...</td>\n    </tr>\n  </tbody>\n</table>\n</div>"
          },
          "metadata": {}
        }
      ]
    },
    {
      "cell_type": "code",
      "source": "df.info()",
      "metadata": {
        "trusted": true
      },
      "execution_count": 20,
      "outputs": [
        {
          "name": "stdout",
          "text": "<class 'pandas.core.frame.DataFrame'>\nInt64Index: 39026 entries, 0 to 40947\nData columns (total 17 columns):\n #   Column                  Non-Null Count  Dtype              \n---  ------                  --------------  -----              \n 0   video_id                39026 non-null  object             \n 1   trending_date           39026 non-null  object             \n 2   title                   39026 non-null  object             \n 3   channel_title           39026 non-null  object             \n 4   category_id_numeric     39026 non-null  int32              \n 5   publish_time            39026 non-null  datetime64[ns, UTC]\n 6   tags                    39026 non-null  object             \n 7   views                   39026 non-null  int64              \n 8   likes                   39026 non-null  int64              \n 9   dislikes                39026 non-null  int64              \n 10  comment_count           39026 non-null  int64              \n 11  thumbnail_link          39026 non-null  object             \n 12  comments_disabled       39026 non-null  bool               \n 13  ratings_disabled        39026 non-null  bool               \n 14  video_error_or_removed  39026 non-null  bool               \n 15  description             38473 non-null  object             \n 16  video_category          39026 non-null  object             \ndtypes: bool(3), datetime64[ns, UTC](1), int32(1), int64(4), object(8)\nmemory usage: 3.2+ MB\n",
          "output_type": "stream"
        }
      ]
    },
    {
      "cell_type": "markdown",
      "source": "Drops duplicate rows from the DataFrame.",
      "metadata": {}
    },
    {
      "cell_type": "code",
      "source": "# Remove duplicate rows\ndf = df.drop_duplicates()",
      "metadata": {
        "trusted": true
      },
      "execution_count": 7,
      "outputs": []
    },
    {
      "cell_type": "markdown",
      "source": "Handles missing values in the DataFrame by filling them with 0.",
      "metadata": {}
    },
    {
      "cell_type": "code",
      "source": "# Handle missing values\ndf['views'] = df['views'].fillna(0)\ndf['likes'] = df['likes'].fillna(0)\ndf['dislikes'] = df['dislikes'].fillna(0)\ndf['comment_count'] = df['comment_count'].fillna(0)",
      "metadata": {
        "trusted": true
      },
      "execution_count": 8,
      "outputs": []
    },
    {
      "cell_type": "markdown",
      "source": "Converts the category_id and publish_time columns to integer and datetime types, respectively.\n",
      "metadata": {}
    },
    {
      "cell_type": "code",
      "source": "# Convert data types\ndf['category_id'] = df['category_id'].astype('int')\ndf['publish_time'] = pd.to_datetime(df['publish_time'])",
      "metadata": {
        "trusted": true
      },
      "execution_count": 9,
      "outputs": []
    },
    {
      "cell_type": "markdown",
      "source": "Standardizes the feature names in the DataFrame by renaming the category_id column to category_id_numeric.",
      "metadata": {}
    },
    {
      "cell_type": "code",
      "source": "# Standardize feature names\ndf = df.rename(columns={'category_id': 'category_id_numeric'})",
      "metadata": {
        "trusted": true
      },
      "execution_count": 10,
      "outputs": []
    },
    {
      "cell_type": "markdown",
      "source": "Adds new features to the DataFrame by extracting the video category from the tags column",
      "metadata": {}
    },
    {
      "cell_type": "code",
      "source": "# Add new features\ndf['video_category'] = df['tags'].apply(lambda x: x.split('\"')[0])",
      "metadata": {
        "trusted": true
      },
      "execution_count": 11,
      "outputs": []
    },
    {
      "cell_type": "markdown",
      "source": "Removes outliers from the DataFrame by dropping rows where the views, likes, or dislikes columns are greater than 1 million.",
      "metadata": {}
    },
    {
      "cell_type": "code",
      "source": "# Remove outliers\ndf = df.drop(df[(df['views'] > 10000000) | (df['likes'] > 1000000) | (df['dislikes'] > 1000000)].index)",
      "metadata": {
        "trusted": true
      },
      "execution_count": 12,
      "outputs": []
    },
    {
      "cell_type": "code",
      "source": "# Split the data into training and test sets\nfrom sklearn.model_selection import train_test_split\n\nX_train, X_test, y_train, y_test = train_test_split(df, df['views'], test_size=0.25, random_state=42)",
      "metadata": {
        "trusted": true
      },
      "execution_count": 13,
      "outputs": []
    },
    {
      "cell_type": "markdown",
      "source": "The training set will be used to train the machine learning model, and the test set will be used to evaluate the performance of the model.",
      "metadata": {}
    },
    {
      "cell_type": "markdown",
      "source": "## Identifiy the top 10 most popular products in a video dataset.",
      "metadata": {}
    },
    {
      "cell_type": "code",
      "source": "from collections import Counter",
      "metadata": {
        "trusted": true
      },
      "execution_count": 51,
      "outputs": []
    },
    {
      "cell_type": "markdown",
      "source": "Converts the Pandas Series object containing the product IDs to a list.",
      "metadata": {}
    },
    {
      "cell_type": "code",
      "source": "# Extract the product IDs from the video data\nproduct_ids = df['video_id'].tolist()",
      "metadata": {
        "trusted": true
      },
      "execution_count": 52,
      "outputs": []
    },
    {
      "cell_type": "markdown",
      "source": "Count the number of times each product ID appears in the list of product IDs. The output of the Counter class is a dictionary where the keys are the product IDs and the values are the number of times each product ID appears in the list.",
      "metadata": {}
    },
    {
      "cell_type": "code",
      "source": "# Count the number of times each product ID appears in the video data\nproduct_counts = Counter(product_ids)\nproduct_counts",
      "metadata": {
        "trusted": true
      },
      "execution_count": 43,
      "outputs": [
        {
          "execution_count": 43,
          "output_type": "execute_result",
          "data": {
            "text/plain": "Counter({'WIV3xNz8NoM': 28,\n         'YI3tsmFsrOg': 28,\n         'QBL8IRJ5yHU': 28,\n         't4pRQ0jn23Q': 28,\n         'r-3iathMo7o': 28,\n         'NBSAQenU2Bk': 28,\n         'vjSohj-Iclc': 27,\n         '2PH7dK6SLC8': 27,\n         '0zZ0Y_UZRBw': 27,\n         'pFc6I0rgmgY': 27,\n         '1purAy2MsOc': 27,\n         'um-1fAVU1OQ': 27,\n         'TjXQzRWmb_I': 27,\n         '-kTWIm7m4Uw': 27,\n         'H7gh2fmdjCU': 27,\n         'Xpv-sEKl1B4': 26,\n         'BspHjvU11y4': 26,\n         'nRc0kmOYgzQ': 26,\n         'D6Oy4LfoqsU': 26,\n         'EGV9Ms9EHcg': 25,\n         'HDYJVmoWoyA': 25,\n         'iILJvqrAQ_w': 25,\n         'V6ElE2xs48c': 25,\n         'j4KvrAUjn6c': 25,\n         'zLuhCfBqf5U': 25,\n         '5PR3Hn6cQ60': 25,\n         'h3umdwK-oPs': 25,\n         'Qcj15vHJTtk': 25,\n         'Xr2rgT9uEnA': 25,\n         '2in8XqiElwc': 25,\n         'v7H_Or9Nr5I': 25,\n         'pcJo0tIWybY': 25,\n         '1PhPYr_9zRY': 25,\n         '1h7KV2sjUWY': 25,\n         'pl-DjiO8das': 24,\n         'CJRw18MtRPg': 24,\n         'c0bsKc4tiuY': 24,\n         'CPjWgk0UXps': 24,\n         'beb8zCGMsbI': 24,\n         'KObL442PWhQ': 24,\n         'z6A2LHGx8_A': 24,\n         'Q5KmA3Xbmqo': 24,\n         '7UoP9ABJXGE': 24,\n         'zxwfDlhJIpw': 23,\n         '86ysRAffCpI': 23,\n         'S9ibNh16xfs': 23,\n         '-e-xXN-tcFU': 23,\n         'nNZrc_XvF30': 23,\n         '4LlQwTgB5Rc': 23,\n         'hiBPUpCJ7MQ': 23,\n         'wI89nVn6LHk': 23,\n         'oLDbO545aKQ': 23,\n         'BZt0qjTWNhw': 23,\n         'OAGfx7eB3gA': 22,\n         'tJfDBSWYqU8': 22,\n         '5GHXEGz3PJg': 22,\n         'Duc3F700lgE': 22,\n         '4HX6R88QZB0': 22,\n         '0l35jAGQPOI': 22,\n         'Of9GOMM9HPg': 22,\n         'qfqVkEYQ1Ls': 22,\n         '96oKlWv5wSo': 22,\n         '4_aR3HqFrr0': 22,\n         'UKserM-i0_A': 22,\n         'SQsPvrev_bQ': 22,\n         'XdNOI-q70q4': 22,\n         'JZ2fRE_nkak': 21,\n         'rxmtHVSVjdo': 21,\n         'E2qtPth2W6w': 21,\n         's1APv5uO2VU': 21,\n         'xrMfUeOPWto': 21,\n         'KUUjtUP2CrE': 21,\n         'nd4cLL_MP7M': 21,\n         'OXVm3fhYsEo': 21,\n         'QDk-xa1oBXw': 21,\n         'mdTv3V4ALzg': 21,\n         'AkCLxl3MzNA': 21,\n         'M79o2UejYKo': 21,\n         'mQ055hHdxbE': 21,\n         'JNyZ49q4vrU': 21,\n         'amtC28yfYCM': 21,\n         '9NC2saE5MbQ': 21,\n         '_1LdMWlNYS4': 21,\n         'AFbu21AGSho': 21,\n         'fDRrqJU4-Tk': 20,\n         'AshvBTw5Z84': 20,\n         'RBbkCEHBw_I': 20,\n         'iQp1_GfDhwQ': 20,\n         'ouWuzQb9vNg': 20,\n         'mmP1aHJjJ-U': 20,\n         '4oqvNR1o3Zo': 20,\n         'MBR2kxt7RK8': 20,\n         'ooyjaVdt-jA': 20,\n         '1Xgm5R4eMao': 20,\n         'au8QGTiPhEw': 20,\n         'tn0hCTyj2Kc': 20,\n         'vRf3azp1pak': 20,\n         'vDyYMcjf500': 20,\n         '99t4EBwIAt8': 20,\n         'UhiXEgqhBWs': 20,\n         'GfxNGjfSKRY': 20,\n         'hHaUQh6Gx-Q': 20,\n         'h-w7QZo0XSc': 19,\n         'cpGA0azFdCs': 19,\n         'wjj2upnfBI0': 19,\n         'SuzlcQc1iks': 19,\n         'we5djgQwK9w': 19,\n         'LnFsp6iM5dg': 19,\n         '4lm75v4Ndlg': 19,\n         'feYykx3Fq-k': 19,\n         'SoKQzAhXkbw': 19,\n         'NjMd89dggAk': 19,\n         'mHbWgIy3wmo': 19,\n         'ZKZwrlNHMkk': 19,\n         'hQW_9ws8OhA': 19,\n         'jxWJLs7_doc': 19,\n         '9JBKuNrd5m8': 19,\n         'w8AJBlmLMZM': 19,\n         'XbxRqlHtKUE': 19,\n         'fYUXvrF85uQ': 19,\n         'p1jllz43xZE': 19,\n         'HdusPnywwPI': 19,\n         'PGRcxXLfWrM': 18,\n         'Hgiu9cqph5Y': 18,\n         'sq4hYZlDPec': 18,\n         'wT_yPn3LfNA': 18,\n         '_PgMjA4x3rE': 18,\n         'fNVUTgd4pio': 18,\n         'NWOz3OZ6J9M': 18,\n         'yO9snUMvRuU': 18,\n         'vAuO3bHxSpc': 18,\n         'ulCdoCfw-bY': 18,\n         't0VsbEqfAvo': 18,\n         '3WlhLmh7uiQ': 18,\n         'L87HuKmGwVQ': 18,\n         'xVU8nEIsapY': 18,\n         'YKWGQyz-oLw': 18,\n         '9POblaMln4Q': 18,\n         'gDXwhHm4GhM': 18,\n         'cZYNADOHhVY': 18,\n         'sqkL6D0ScR0': 18,\n         'T4FAg5A4wQk': 18,\n         'N4MtzsregT8': 18,\n         'NHZr6P1csiY': 18,\n         '8fbyfDbi-MI': 18,\n         '0URpDxIjZrQ': 18,\n         'JyG5hdbQpDM': 18,\n         'Hh-YcWJTt7Y': 18,\n         'w9JrUVI_h4I': 18,\n         '2ybeU5JUoK4': 18,\n         'flLc6LmAG6c': 18,\n         'azFsk42kb5E': 17,\n         '2QK6Usg2KT0': 17,\n         'Kemqo35m8gk': 17,\n         'kUosDBUjq5A': 17,\n         'Ya_trIAWIXA': 17,\n         'x2KAYep8FwI': 17,\n         'XaKDp3ijSx0': 17,\n         'zZTyHHxJAzw': 17,\n         'whwUlzuLfs4': 17,\n         'EFwa5Owp0-k': 17,\n         'CP23fL52Bes': 17,\n         '9QojtREFuFU': 17,\n         'KVit4vSAMsk': 17,\n         'kJzSzGbfc0k': 17,\n         'C54cHGCwBdk': 17,\n         'cUa93K56cc0': 17,\n         'oY9GVZKwBhI': 17,\n         '_zCDvOsdL9Q': 17,\n         'T1-k7VYwsHg': 17,\n         'PAHm7SEhhuw': 17,\n         'u_C4onVrr8U': 17,\n         'V1Pl8CzNzCw': 17,\n         '4k9bXpi1tU4': 17,\n         'lD1mPectYOM': 17,\n         'ZUSPD9zOyJs': 17,\n         '_wNZbgBPz1Q': 17,\n         'Yiq8YjQC6Rw': 17,\n         'jiZfc0b2t3Q': 17,\n         'WXTNngJsBrI': 17,\n         'B3qT1k0r9pw': 17,\n         'x_joMJBrT34': 17,\n         'ESKmRiLjNpg': 17,\n         '8XBLuU_4Qgo': 17,\n         'jD83QaWy8LI': 17,\n         'm9sR3Z0vVOc': 17,\n         'X9Qh8vsSE-c': 17,\n         'H0g4JxKp4fc': 16,\n         'CwKp6Xhy3_4': 16,\n         '4HU6Z7anycw': 16,\n         'f1fXCRtSUWU': 16,\n         'FhwktRDG_aQ': 16,\n         'kjC1zmZo30U': 16,\n         'R1TSiB9OuVM': 16,\n         'b_lULj6v804': 16,\n         'CvqtJTrsKCE': 16,\n         '7_FJUSBFbJM': 16,\n         'dY2jpeasD4w': 16,\n         'hwjdXBxeWsc': 16,\n         'EQqIiTk2fy4': 16,\n         'DNrNMg8_gEs': 16,\n         'HuWLoCF9rWQ': 16,\n         'CG9yQ8PXf6o': 16,\n         'dWLDoQ0Kus8': 16,\n         'f4FuOi9rvKw': 16,\n         'H-WEhug-up8': 16,\n         'kqp6RnQHKR4': 16,\n         'iWeNDPTYAZw': 16,\n         'S4vxoP-IF2M': 16,\n         'lAaSh9DogM8': 16,\n         'HFGzgtMyOZY': 16,\n         'MWbQdgjsvJI': 16,\n         'L90R6PtxFKE': 16,\n         'PZxyNX8J7Y4': 16,\n         '4ZO-jde2smo': 16,\n         'jpH-8HiMCRI': 16,\n         'xe5tXZs-iWw': 16,\n         'tpa4kp4lK60': 16,\n         'Es9CfWMmPRU': 16,\n         'qSKOPBVkpJk': 16,\n         'qOioqgPyCwE': 16,\n         'TmzVBGf6uKk': 16,\n         '2KuqjW0WtZg': 16,\n         '6fyE0B430Rc': 16,\n         '7DbslbKsQSk': 16,\n         'Ji_4dH_FXzw': 16,\n         'dn4CKtiwxSA': 16,\n         'Yg8jdBLTtfo': 16,\n         'E4c7EE8_IX0': 16,\n         'sV7eDd1d7LI': 16,\n         'CFa-pa0-VqI': 16,\n         'AoswyJLilgo': 16,\n         'PV_GHHXy7Po': 16,\n         'IjvXgzSa1Dk': 15,\n         'syAXXLxO8tw': 15,\n         'MpaHR-V_R-o': 15,\n         '73_OWzBr8Fo': 15,\n         'i04pYZGDHIc': 15,\n         'gs-iqvX6pOA': 15,\n         'pH7VfJDq7f4': 15,\n         'IJofEhiRpy0': 15,\n         'HgknAaKNaMM': 15,\n         '425M4M3Opkk': 15,\n         'OBOm_jatVCI': 15,\n         'tJv-xtxKkQY': 15,\n         'rNCT91V5dQU': 15,\n         'I-BGTp-I9aU': 15,\n         'A0FZIwabctw': 15,\n         'Ba4j_q02FM4': 15,\n         'KyQyz2upSgY': 15,\n         'Txlk7PiHaGk': 15,\n         '3y75zBl37f8': 15,\n         'iZUfPIKbgUM': 15,\n         'UJIo1AtoTss': 15,\n         'ai6NByMmCVU': 15,\n         'HuwPCUzqwKs': 15,\n         'lgBn6qzMlXw': 15,\n         'LnA7Au-DLUM': 15,\n         'XGd1dq1BatM': 15,\n         '4srOE3pCCo8': 15,\n         '2aQykuIaJVI': 15,\n         '9x8JN8zDqis': 15,\n         '_IoOJu2_FKE': 15,\n         'OZsYiWBgFOk': 15,\n         'UmXbLTbi8Hg': 15,\n         'c1npkEoEtos': 15,\n         'OcTw2b0Ho-8': 15,\n         'rwFfo61fVSY': 15,\n         '3iUfzN4RAB8': 15,\n         'm1-rpd3S-48': 15,\n         'PFH046Fh3ps': 15,\n         'ZwoDYJWWXW0': 15,\n         'CUNq2_VjRn4': 15,\n         'bSYNEkkuhoA': 15,\n         'rdsABjAP8Yg': 15,\n         'SMvZa784oow': 15,\n         '1Nu_oGucpDI': 15,\n         'M0kcLjxoYS8': 15,\n         '8JfMdhrbehY': 15,\n         '-7_ATlZ-zMc': 15,\n         'CJv0I-xYuC4': 15,\n         'B4C10LKAcZQ': 15,\n         'bTfJa_Qb5T0': 15,\n         'uRP4nAGMYCY': 15,\n         '34cHO5_LX9g': 15,\n         'uovntV3ZMDc': 15,\n         '5g2UZr5RGgg': 15,\n         'goIXAFdlcUw': 15,\n         '0GKC_nj7B44': 15,\n         'BFkTu8Y1KLs': 15,\n         'hQA0oWZpgAQ': 15,\n         'IcDI1iWmIp8': 15,\n         '0zMSMJZc9EA': 15,\n         '8bNu6Ktj858': 15,\n         'ssk48FCVolk': 15,\n         'Kw0ih4jPOBo': 15,\n         'RxlSl-kG3qg': 15,\n         '_pP_C7HEy3g': 15,\n         'sxyotaytAS0': 15,\n         'UE-kaxIiNPQ': 15,\n         'USXoINPEhoA': 15,\n         'jzLlsbdrwQk': 15,\n         'oRexsyztGS0': 15,\n         'e7sIvcYmuk0': 15,\n         'v0e9MS26QmA': 15,\n         '9jRtpMKLsts': 15,\n         'gS1DbvHHVH0': 15,\n         'Dan2YMDCpms': 15,\n         'tsM6kq-7nmw': 15,\n         'Tn8hOPeAnIM': 15,\n         'nLXCutcsoKQ': 15,\n         'TfiTsqa2LB0': 15,\n         'IpN_wAlYZSs': 15,\n         'kCg5D8KMqk4': 14,\n         'qvZybtmE5RY': 14,\n         'E_ViwNxUldw': 14,\n         'hV-yHbbrKRA': 14,\n         'vQiiNGllGQo': 14,\n         'Kf2-86o5S1o': 14,\n         '5tPugvYE6wM': 14,\n         'kOsl3cmK3zg': 14,\n         'n9JVbbRBqfY': 14,\n         '3tjHS7JRB4c': 14,\n         'LLOB5uG6zSQ': 14,\n         'mlJGtSg5oRw': 14,\n         'DGhPGH2YROA': 14,\n         'OG6qjAivguw': 14,\n         'fKuxh0E9mSI': 14,\n         'hB07EJhMBRs': 14,\n         '4vl8-5udtII': 14,\n         'Da-2h2B4faU': 14,\n         '_0Wz8e4W-oE': 14,\n         'mMtjGYdJOps': 14,\n         '2ATuTL5i0_c': 14,\n         'q8kLoRnzgLQ': 14,\n         'tugFFhML7VY': 14,\n         'HCO7BWbKipU': 14,\n         'i_nLsG_asQg': 14,\n         'c7cYON3uVZo': 14,\n         '894rSubVE5E': 14,\n         'dEs6-IfOGbw': 14,\n         'n-H6zIeMiUs': 14,\n         'SVmuTIQBoio': 14,\n         'w8UI8r9Ccwk': 14,\n         'hlb3gGNBHFE': 14,\n         'wbxblKFtGCg': 14,\n         '5bJ_gb19pKQ': 14,\n         'fzmM0AB60QQ': 14,\n         '305ryPvU6A8': 14,\n         'FDbb28N7iI8': 14,\n         'GhxqY5E_ASw': 14,\n         'NsFna-Z1MjU': 14,\n         'SphTGtDlhHw': 14,\n         'nt00QzKuNVY': 14,\n         'D4pdh0eTsxw': 14,\n         'oSZDe6CrfN4': 14,\n         'fC8gutkCu1c': 14,\n         'ir0G79oHXMc': 14,\n         '_suPAag6_i8': 14,\n         'p-GN8WXoiX4': 14,\n         'BtvRaMPJWLs': 14,\n         'OylDdm-6ZH0': 14,\n         '0KRpcUAtg00': 14,\n         'pspGtXW0QYo': 14,\n         's3ChukSDGRU': 14,\n         'WknsomB28mE': 14,\n         'giiIq7t4oMQ': 14,\n         'LN-m0Ci8MZ8': 14,\n         'TN7LvuEpDIE': 14,\n         'XrvedhkDN5A': 14,\n         '08l0K3UyUXE': 14,\n         'LK3Yz9UpP_A': 14,\n         'iSt_jbT6rak': 14,\n         'T2uyIBURMjs': 14,\n         '2GjJ85MImlo': 14,\n         'ZCPwpcurYns': 14,\n         'FR5WT12B_88': 14,\n         'RyquDQ5kWSs': 14,\n         'qYNNT1WIhwM': 14,\n         'MHh9NWCR_ts': 14,\n         'yWjRvhfjpI8': 14,\n         'BXnGUUsdnR8': 14,\n         'Z4qNw1dPuNI': 14,\n         'Gzy_nCkn88U': 14,\n         'B2W7c3XRBwQ': 14,\n         'PHLY4a5fTjU': 14,\n         'NC-TF0SPzzM': 14,\n         'Q9vZHbcx6cQ': 14,\n         '54BVvP7zvDQ': 14,\n         'mwgUesU1pz4': 14,\n         'Hu5FZYlCfc8': 14,\n         'YML2DM0K8DQ': 14,\n         'dx9mF1KJr0s': 14,\n         'dRfvXL-m7O8': 14,\n         'sKLREPyI-dY': 14,\n         'KWDUojLbxn4': 14,\n         'vDtyaRoonx4': 14,\n         '9WFf9XY5rME': 14,\n         'FwENtwtY0EI': 14,\n         '3nwwX-DEH1M': 14,\n         'oLrOtjfn1rw': 14,\n         'eSHe32cEKqI': 14,\n         'mhog9LEMCDY': 14,\n         'aNvRdg1lR7c': 14,\n         'Ii3Rr4-Pxow': 14,\n         '_fjfo256p6s': 14,\n         'Ml9v3wHLuWI': 14,\n         'NcsGpDFKCgY': 14,\n         '_Ybm_ZNLu0w': 14,\n         'WPZfIKy7LWo': 14,\n         'mD4jp2HHu0g': 14,\n         'TTogFxTu_vA': 14,\n         '-EL8TuMsb-k': 14,\n         'n5IdKE3rhII': 14,\n         'fQjGRb4-IQM': 14,\n         'zfeN12n3fxk': 14,\n         'qpkXi0-XkxI': 14,\n         'L29S0JPOrV0': 14,\n         'LX0wFKvticI': 14,\n         'GhHBfDK4lE8': 14,\n         'jZoHuMwZwTk': 14,\n         'og3aFSeEm94': 14,\n         'hEnWzvzVMaA': 14,\n         's31XTrGJchQ': 14,\n         '9JQ2gHDPnDY': 14,\n         'Swv1il6PpN4': 14,\n         'LE7QEIy-6NE': 14,\n         'FBhVIhmh_N8': 14,\n         'XzzQL96yAwE': 14,\n         '532MxrRNJcM': 14,\n         'TBF7eTSTWLA': 14,\n         'CbWP9nvnRhw': 14,\n         '7HGCE6-LMBg': 14,\n         'm8Dqg8iz5Fo': 14,\n         '1XY8dPnIORc': 14,\n         'xffS8n-M0Jg': 14,\n         'qCSu-X_aEvo': 14,\n         'iJz5jURaEBc': 14,\n         'JwivtxQEmc8': 14,\n         'ogfYd705cRs': 14,\n         'D52qnC7dJcQ': 14,\n         'zcEE8J2Bqa8': 14,\n         'Z2ttpo7c95s': 14,\n         'CQQit01HHLY': 14,\n         'zFPEOG1Yxvw': 14,\n         'ZhEz1cvC1rc': 14,\n         '37R2_bvJjGM': 14,\n         'CTFZoz-mB5k': 14,\n         '5DsBQiYNwuk': 14,\n         '2nVPFdqejD0': 14,\n         'E60w-0q8Y0Y': 13,\n         '8eo-L_3OWAQ': 13,\n         'zLJsJR0O6VI': 13,\n         'RHUxyXZBXY8': 13,\n         'fEMxFSjmo5Q': 13,\n         'GEB2f5dpFXs': 13,\n         'ItL6vcUrpUs': 13,\n         'b2EOxGUuBWA': 13,\n         'XcSMdhfKga4': 13,\n         'MSzytvDsPfo': 13,\n         'XwDTzD75fT4': 13,\n         'uFDPLyAWpVg': 13,\n         'cMD63TwzB1o': 13,\n         'tE5C3O71Xqo': 13,\n         'Sbp8MmSc2kQ': 13,\n         'bqFjyo7I8fY': 13,\n         'EAGhzuitLXU': 13,\n         'd-HPZL6AU64': 13,\n         'WfPu9Jrcpuk': 13,\n         '08OhPK2BVIU': 13,\n         'vsA_L1t4vXY': 13,\n         'JyUKqUTp9rc': 13,\n         'dwvVhnQTfDk': 13,\n         '9yDNAc8YS9c': 13,\n         'elwTgpHlty0': 13,\n         'FApBWHvUzMs': 13,\n         'YFHHGETsxkE': 13,\n         '9YlnHbN28jo': 13,\n         '5_-NKRVn7IQ': 13,\n         'tUbky9YzPZY': 13,\n         'zsoh0Y_VXdY': 13,\n         'UEhsFEgsI5U': 13,\n         'OzKmR5BLdbQ': 13,\n         '5LoBGoQPUNc': 13,\n         'uI5_G-Hiu8U': 13,\n         'g30Rhk82rmg': 13,\n         'ZIbI0ekrrZU': 13,\n         'TM42O6kYbI8': 13,\n         'zNL_kGO6lQ8': 13,\n         'D8mu5AgUsPs': 13,\n         'C7mxTEskjQg': 13,\n         'ONviWNYLKME': 13,\n         '6tAB3YwWkxY': 13,\n         '7FA21oJ3-hw': 13,\n         'RQm0nKoODo4': 13,\n         'aq-phmpUJ_E': 13,\n         '82zGhWVXXxg': 13,\n         'VeXoFFxxUyc': 13,\n         'Ek3aeUhHaFY': 13,\n         'e5D3O4yCmCg': 13,\n         'RUApBid9vnE': 13,\n         'ESyJop31cmY': 13,\n         'WMs3NOW1TDs': 13,\n         'NRs3YCJDBAs': 13,\n         'kD06SQtfA5s': 13,\n         'jwlW1-vVBjQ': 13,\n         'cXOZLskXCog': 13,\n         'O8hm2Ml-pA8': 13,\n         'P_If9xMyl10': 13,\n         'Thvm6dADOms': 13,\n         'xf-dywd3zx0': 13,\n         'UzeIb-TZo_I': 13,\n         'wowAOdTYqw8': 13,\n         'ck2ClsAoN8w': 13,\n         'XXRBLyQQ78A': 13,\n         '0HX039UdGpU': 13,\n         'eT4shwU4Yc4': 13,\n         '6sHIq41sI-w': 13,\n         'eFjFxgHedgM': 13,\n         'M61Vt1C69JA': 13,\n         'fLjXIFvafSE': 13,\n         'Q0sjw10aEWI': 13,\n         'hhiD-TKYqHk': 13,\n         'jVlfNd3fxMY': 13,\n         'MybjFHx_wfc': 13,\n         'wAQ7autd61g': 13,\n         'pCteBhr4dGY': 13,\n         'ZKWDCyVbnoM': 13,\n         'lEltmPagx6M': 13,\n         '9qlF_9PNhJs': 13,\n         '5fZiMNo5-uo': 13,\n         'JhvwFB-NUbA': 13,\n         'oYe-QM8ZimI': 13,\n         'ghMEmxP0hgw': 13,\n         'GpbMbBNP-NI': 13,\n         'v-vx6GpTBkc': 13,\n         'z1Fvrmf4BXc': 13,\n         'LLiXwMQW_VQ': 13,\n         'bWL_MVbpGT0': 13,\n         '5mar5AHglGI': 13,\n         '-4s2MeUgduo': 13,\n         'szFrHKoD1GE': 13,\n         'UwbO_xb1-Xo': 13,\n         'VVMCz04CmlA': 13,\n         'b8GGWHGkx3Y': 13,\n         'EU-eQpCqBXQ': 13,\n         'CP5Ro3oy-ec': 13,\n         'SONGEiVMygg': 13,\n         'hDEc4ImIVHk': 13,\n         'w77zPAtVTuI': 13,\n         'Gl_uGsdG4Do': 13,\n         '_rBaHuQi9gQ': 13,\n         'anDIlMVgNwk': 13,\n         'GeF_5qo00Uw': 13,\n         'tl4I1b6cHKc': 13,\n         'CeCgsmTjHjk': 13,\n         'J15vfXqnwWw': 13,\n         '3lgcBZdMZxM': 13,\n         'ET6XGZqOyjY': 13,\n         'DV1OqgHb3jc': 13,\n         'Me8jYR9Q0kw': 13,\n         'YvEGAcgpwqQ': 13,\n         'lOz7cPJQd8E': 13,\n         '8hYTPl7MkiA': 13,\n         'rzVJrBOsf0M': 13,\n         'ndb7Ez9m2YM': 13,\n         'SwqUpegUT2Q': 13,\n         '7P-PNa0bxQg': 13,\n         'KUXd7p_vd3w': 13,\n         'EbbL8NhdTQE': 13,\n         'Pj-D0jc17D0': 13,\n         '6xUnndUTDBQ': 13,\n         'c8W-auqg024': 13,\n         'SXkxheJ1dQ0': 13,\n         'DgljcMqPG98': 13,\n         'C7lQ_jqSqKQ': 13,\n         'GsexKH-Ubnw': 13,\n         'D5D90CLAILY': 13,\n         'pXpfGJpmhNI': 13,\n         '42ZE4DCJkEo': 13,\n         'AQxBqfy4Faw': 13,\n         'lCuewNV_KyQ': 13,\n         'p-OCfiglZRQ': 13,\n         'r2ys-AimNbE': 13,\n         'D_CZ8v9uZJY': 13,\n         '9fKALFSxX_Q': 13,\n         '13xFL17XmYU': 13,\n         'sw-l5SW5hik': 13,\n         '2jSWMme12ik': 13,\n         'xf4iv4ic70M': 13,\n         'qTJs_9Ckc60': 13,\n         'jC4NNUYIIdM': 13,\n         'DgaC0ytqdv4': 13,\n         '0IaG9oM4O4s': 13,\n         '5VGxDEh3F0g': 13,\n         'Kc6CIwBVo5s': 13,\n         'TuPT8ZF0Vl4': 13,\n         'eP33TkuI9vI': 13,\n         'WbgIREVg2JU': 13,\n         'STVXHhTdjW4': 13,\n         'OUBx_raReDw': 13,\n         'Uy7yJdq1yhg': 13,\n         'JfQ3W0wjGh4': 13,\n         'MEcc8e7WwXg': 13,\n         'HorugBalutw': 13,\n         '2v4-L4PkV9U': 13,\n         'LzuDyq0-1LM': 13,\n         'EqeIRzY7hIU': 13,\n         'BJ2yzCRPonA': 13,\n         'LfeEu4_vtfQ': 13,\n         'vL2-H_0V7nw': 13,\n         'N39uwTykTQk': 13,\n         'O6epKIw7W5M': 13,\n         'u429Qgvoxw4': 13,\n         '592KTCoUuUg': 13,\n         'Qofj8MKO6mk': 13,\n         'asiRHYuOP08': 13,\n         'vfHd8MF0ExU': 13,\n         'LU86T12xBQQ': 13,\n         'lWHZKP6xXHU': 12,\n         'lcpxLXjYAa8': 12,\n         'szaJ5aW-LUs': 12,\n         'ydPYNo8o-lI': 12,\n         'SFxZb-GHbrQ': 12,\n         'MUWUHf-rzks': 12,\n         'ZB7_1CoKntI': 12,\n         'dwEKqAwoz0Y': 12,\n         'cIQKKzZtWwQ': 12,\n         'nZM9Ko806Bg': 12,\n         'K62oeVyaC-U': 12,\n         't0Ro2Yqs6mA': 12,\n         'IU-Fo-QEpOI': 12,\n         'YEGhKwpEKEw': 12,\n         'PLAFNvxDPMw': 12,\n         'mMzKvVtrC6U': 12,\n         'AaALLWQmCdI': 12,\n         'VAUHZYf_aKY': 12,\n         'VllA1V5M38E': 12,\n         'BIQK4-9YFW0': 12,\n         'jTW5_KvkGoE': 12,\n         'wqEknnPadMA': 12,\n         '1sqyuXCwcBA': 12,\n         'cQtYcpRGGIY': 12,\n         '7keZTcdouoY': 12,\n         'Fr0wEsISRUw': 12,\n         'zi_6oaQyckM': 12,\n         'pihJVwap7iI': 12,\n         't9GNMVfEiG4': 12,\n         'pMpQABKlC-I': 12,\n         'JFydHaV0klA': 12,\n         'DcCh33lJLMw': 12,\n         '3ToRIUoXmIw': 12,\n         'V_jU_ssWvc4': 12,\n         'q8fuvWLje8M': 12,\n         'avnapsraeXM': 12,\n         'rZQepOFnYi8': 12,\n         'ObvUP5YxAKg': 12,\n         '_IuEg3xbDA0': 12,\n         'tXlbRhkQaVc': 12,\n         'hpsugpjc3dE': 12,\n         'dJgoTcyrFZ4': 12,\n         'GEsK9GudV2M': 12,\n         'HbKnEQdCjGg': 12,\n         'H8bmr4oR19c': 12,\n         'oCAbvclXL6I': 12,\n         'bJWDajO2SZE': 12,\n         'GqF5lyEUfMk': 12,\n         'MNzBFgwkU0A': 12,\n         'M2YwkAWg0_g': 12,\n         'iD8K3pNhf-U': 12,\n         'C3_spbo8eVc': 12,\n         'uZUOzSMDBjg': 12,\n         'hmkSBiZ6XoQ': 12,\n         '2afSbqlp5HU': 12,\n         'GbrueARGMhE': 12,\n         'zjgZuuE8OVc': 12,\n         'nZI-zkjhtyg': 12,\n         'MeNR0guNn70': 12,\n         '6-Bf9yUay50': 12,\n         'MTf2X6EHyLQ': 12,\n         'AvFNCNOyZeE': 12,\n         'dm6ZSfE5muc': 12,\n         'XUIwpXq_jBo': 12,\n         '-s3j-ptJD10': 12,\n         'WdOGSNQP9b4': 12,\n         'EC5UCCnk59c': 12,\n         'hbcH02YynOA': 12,\n         'holkOJx-TOU': 12,\n         'dt7fU9H8tz8': 12,\n         'hahlygBa6yQ': 12,\n         'm7b8hitvfoE': 12,\n         'qIkuNJPtfw4': 12,\n         'RZfqUAZddmk': 12,\n         'ywm84JNihIg': 12,\n         '0H-JHIGRRNM': 12,\n         'PaumoJFmHlY': 12,\n         '49wGna0UTB8': 12,\n         'LeFxjRMv5U8': 12,\n         '18QHSoWPygQ': 12,\n         'eljAjPH6zQI': 12,\n         'in5TfQfUIBY': 12,\n         'enH3xA4mYcY': 12,\n         'AU9I1MX0c2s': 12,\n         '6Km34EXxGZ4': 12,\n         'aC5lxLCyyhQ': 12,\n         '9SCNLl0MQPM': 12,\n         'fS2fsa1fuIw': 12,\n         'soBb4X5Hb6k': 12,\n         'rvskMHn0sqQ': 12,\n         'JuhWVxLtfWQ': 12,\n         'hHFuZVGpBC0': 12,\n         'Nkl-k_rjn_U': 12,\n         '8UHMSVOHddE': 12,\n         '2XQft9iwSqg': 12,\n         '_vrcsnkXCI8': 12,\n         'IgUlowmSeHo': 12,\n         '10ndJuFP1PY': 12,\n         'kD-_iyS95AQ': 12,\n         '-R9F2_D76TE': 12,\n         '7Tivcf-zIOU': 12,\n         'G63TF6OMa_8': 12,\n         'zwEn-ambXLw': 12,\n         'xfdUIY8rEmA': 12,\n         'jHZTzXteoU8': 12,\n         'EjW7WzozgI0': 12,\n         'MIQKlHSD89E': 12,\n         '2J6bJnwr1rw': 12,\n         'R_O5x0LNksM': 12,\n         'EhSXsTSNDyo': 12,\n         'tG-IGNvfrg8': 12,\n         'j1f04Jg7IaA': 12,\n         'T8lWjQRhQXY': 12,\n         'b7zWwo9dbiU': 12,\n         'I2sRc3j7IU0': 12,\n         'ZcCp7488puc': 12,\n         'xXf2ct7C2fQ': 12,\n         'yleuZbY8rKk': 12,\n         '6Rl7fQQRmtg': 12,\n         'tIYJcjhINqA': 12,\n         'zTY7dvFJbXY': 12,\n         'ZT0CCaKDxjg': 12,\n         'nsZvmFUXkrI': 12,\n         'KQRq9FZqNj0': 12,\n         'bRkdzjzqepQ': 12,\n         'FPXXy-rGq-M': 12,\n         'K7imG4DYXlM': 12,\n         'XWrB4qOF_UA': 12,\n         'WOAIo9G9rIY': 12,\n         'WACO9TqZEh0': 12,\n         'XKl8Wg25DrM': 12,\n         'r2H8Oqm1eQ4': 12,\n         'hv3jeGUv9fY': 12,\n         'GjJKdQTD1bc': 12,\n         'x9e_8zRuuO8': 12,\n         'trcditUaQJg': 12,\n         'a73YoV2uf6g': 12,\n         'tlILlcCE8Sc': 12,\n         '6tgptWcKkgc': 12,\n         'uVcvhKTVZ8g': 12,\n         'jGl-6an8fz8': 12,\n         'U0z-x5O_Jpw': 12,\n         'KksXbA66RQQ': 12,\n         'bK0TEqDtkK4': 12,\n         'a6D9ksDanh0': 12,\n         'jQS_kpH9xfA': 12,\n         'y_WoOYybCro': 12,\n         '1csFTDXXULY': 12,\n         'E21NATEP9QI': 12,\n         'uQWuC7L4_DQ': 12,\n         'pKkf2KCc6xo': 12,\n         'pTysrwci0pU': 12,\n         '6wGj89GE6aQ': 12,\n         '1MGNw-Y2QPk': 12,\n         'WemDKlmMAIs': 12,\n         'Wzq4qbNRFrw': 12,\n         'irHqI9fUc4I': 12,\n         'UTVpWVO4vZU': 12,\n         '52pwYD_rxmE': 12,\n         'Wz_YwUpNOcw': 12,\n         '1ZXWwIjQnHs': 12,\n         't_bnyOOFDNM': 12,\n         'oR9gIJjMyis': 12,\n         'zUzBfBqbSmc': 12,\n         'iC7wWFQUUqU': 12,\n         'bR1d8l92Q8Q': 12,\n         'p_IwENcMPOA': 11,\n         '_lUiJsnGXh8': 11,\n         '2ktuvx9hrMw': 11,\n         'a2bjPDkFR40': 11,\n         'aMQbRpxgFvs': 11,\n         'iZpxzfMkVzM': 11,\n         '3RlbqOl_4NA': 11,\n         'KFm7fKqg13E': 11,\n         'OziQ_a3Rpqw': 11,\n         'LotoBix4UDM': 11,\n         'qOvMazijKMA': 11,\n         '07S_Glj3uYs': 11,\n         'v2OTO6UEVAo': 11,\n         'OWYKrIKMO1M': 11,\n         '5EF5Curjr8k': 11,\n         'zT4DJKkN_Do': 11,\n         'WhJIUtMK1tU': 11,\n         '3mRjN1Focog': 11,\n         'lM0yu7c6lQk': 11,\n         'WQd6x4KmVhA': 11,\n         'teA0Z7ltRSY': 11,\n         '9yWnVxe1qp8': 11,\n         'H00djJq68VE': 11,\n         '65MWN5yKU0A': 11,\n         '4zkWYYFvV6M': 11,\n         'F3eSaEHSCu0': 11,\n         'ZsN1V9Hjfvg': 11,\n         'rTMgDNpXPto': 11,\n         'aBQDFQwfX2w': 11,\n         'drg74wOy8z8': 11,\n         'WIWb8f1WIyQ': 11,\n         'JnepCulEQOo': 11,\n         'H_4ESBLJXQc': 11,\n         'XzvHSMEBFjE': 11,\n         'cy9W-ZywVPc': 11,\n         'KNxUDJ8_qI0': 11,\n         '0vXLU9BnDPc': 11,\n         'oOZ_Q6qzXuw': 11,\n         '_6lGaYh71g4': 11,\n         '-p-PToD2URA': 11,\n         'F7jcFXTnBiQ': 11,\n         '-5aaJJQFvOg': 11,\n         'IOLzpBzUXZs': 11,\n         'qVWzDX5NrhQ': 11,\n         'kIHhVkkHV2k': 11,\n         '2wbc8x-RHiY': 11,\n         'gmp6AGFPhzY': 11,\n         '7J4nN0Te9m8': 11,\n         'XcqS9okipTU': 11,\n         'r-i6XpcL1Fs': 11,\n         'xvmTr6S00Aw': 11,\n         'U9w-yE3SvkY': 11,\n         '00RpZZThSAs': 11,\n         'Nb_t6X541yo': 11,\n         'SCPkXjwSWCY': 11,\n         'zuVxgSvyffk': 11,\n         'mZ2qbwvAVjs': 11,\n         '_EMxJMU1dCo': 11,\n         'XP32nDUMYS8': 11,\n         'vnuk6bbPXeY': 11,\n         'JzA097DmNTI': 11,\n         'nn8YGPZdCvA': 11,\n         'NjCIH1fXT0I': 11,\n         '7HIt7pA4WqY': 11,\n         'lRkTgVynmbM': 11,\n         'faYA_upR_a0': 11,\n         'kNg_RFDYpTw': 11,\n         'uiZprtMUyCM': 11,\n         'ZqOtqz8bSDk': 11,\n         'GO_Jxa6dWyo': 11,\n         '3pCCjHDPq6U': 11,\n         'biIRlcQqmOc': 11,\n         '4GZBn4_SfQQ': 11,\n         'uA8GdJJqz_s': 11,\n         'nT39kZDAx_s': 11,\n         'uE_dSIumQ5Q': 11,\n         'wNhYCsu3WWk': 11,\n         '4a1TUszkMfI': 11,\n         '1SnWTW6YXbE': 11,\n         '2fouYHWUhZo': 11,\n         'b33PN2NB2Do': 11,\n         'S5xFft7kg8Q': 11,\n         'DxSf6Nb_I7o': 11,\n         'DCUD9kjYOAk': 11,\n         'iXfHlch1Lso': 11,\n         'BGszdLW-VqM': 11,\n         'vGTTSdrV37U': 11,\n         'EWf7P3okX9s': 11,\n         'nzNGEB1BQuM': 11,\n         's9ZQ6VuoN1c': 11,\n         'uSTNyHkde08': 11,\n         'J0epg1oHGbM': 11,\n         '9TCdWhmtxCk': 11,\n         'cpxwX6KvWbQ': 11,\n         'BcruuWQ2_9Q': 11,\n         'AsTdC2RToIA': 11,\n         'iz4bGGhf9Xc': 11,\n         'APASP1YKH60': 11,\n         'pfM1F0fBTo8': 11,\n         'qtW9ornyPIQ': 11,\n         'zO0dIgvpmfw': 11,\n         'OGPsw2f_HQk': 11,\n         'RHpnWg6tdaw': 11,\n         'dKoIPuifJvE': 11,\n         'o-BODsf2T68': 11,\n         '5hpuoMilm_4': 11,\n         'pwYa2LyCans': 11,\n         'VaGcPRMY5UM': 11,\n         'RiGFGXd9Xvs': 11,\n         'v_8TF4nv88s': 11,\n         'jlmNwjdYVnk': 11,\n         'BPmAxzEJpWA': 11,\n         '894X4nV9Mys': 11,\n         'J6R0X6NTnSw': 11,\n         'cYxzLGk2NcY': 11,\n         'oNpzeIdOtlk': 11,\n         'Zo9rgbn0SMs': 11,\n         'TLS837FaO4Y': 11,\n         'ZCEgDAYzyRw': 11,\n         'R9s5_Ji33xY': 11,\n         'mNKwe9k55fs': 11,\n         '71X7a8eu73k': 11,\n         'M-Rl_kUU4vk': 11,\n         '5jmaUAvUou4': 11,\n         'J75enyWdbBM': 11,\n         'HiQHcbFJv_o': 11,\n         'RoIJtobSOqc': 11,\n         'm7lFyINZlBs': 11,\n         'wDl6MlgL8PM': 11,\n         'qLaGCduQKGM': 11,\n         'h_O8ZvB3uEk': 11,\n         'sFtLUGa3arU': 11,\n         'x1l-HRvwnB4': 11,\n         'gR0pSSISaVk': 11,\n         'kxMC7g_sKjw': 11,\n         'sMLso2du91U': 11,\n         'MfVetou0ERY': 11,\n         'YywJykbEllU': 11,\n         'q8v9MvManKE': 11,\n         'OZv7qYZ43xQ': 11,\n         'aCddogeAHMY': 11,\n         'NKmGVE85GUU': 11,\n         'vTJKosHxYtM': 11,\n         'dJCKavW22PM': 11,\n         'BLXLPisBe8s': 11,\n         'hDYPVhwULCc': 11,\n         'IP4hs_wq5yE': 11,\n         'SqNlLDeZcSc': 11,\n         'JFmkRNbDF70': 11,\n         'ijwHj2HaOT0': 11,\n         'rQEqKZ7CJlk': 11,\n         'A2dIL4sf4TQ': 11,\n         '2-tzlBFotjA': 11,\n         'raJMFayG5UA': 11,\n         'WBxwX1myxqc': 11,\n         'CZkUNPBlJIQ': 11,\n         'qmvj7ijV0Q0': 11,\n         'eZSAIm_pzv4': 11,\n         'AJUiQU8-w8E': 11,\n         'wW4JB9tjlik': 11,\n         'DMlITdf3w-o': 11,\n         'vRWH9GQ2J90': 11,\n         'lBbSzQXQknw': 11,\n         'n-DTjpde9-0': 11,\n         'lG8fWx982Qs': 11,\n         'Zq5ESvmKagc': 11,\n         'a30K69hUJyo': 11,\n         'sdL70wkf_H0': 11,\n         'mHd8Ug4ljN4': 11,\n         '0XARMt12oFk': 10,\n         'NePlddZpNKs': 10,\n         'R9OHn5ZF4Uo': 10,\n         'Pymm6cmE9uQ': 10,\n         'nHaBEgkMQVw': 10,\n         'kwvbLx9M6-s': 10,\n         'ccgIXa7TIkc': 10,\n         '_mHSkHjInS4': 10,\n         'cntsqw7XOF0': 10,\n         'RlSzahonkTk': 10,\n         'MnKbM9Zxtn8': 10,\n         'PluaPvhkIMU': 10,\n         'y0BlGqwLLGQ': 10,\n         'ZpMNJbt3QDE': 10,\n         'fFSmOE0Uxms': 10,\n         'zeO4C8e4pjw': 10,\n         'UK2OQ67Xr4o': 10,\n         'aLLgene7kJo': 10,\n         '6hb0GOOFQwI': 10,\n         '24HFgBQawWA': 10,\n         'kce9FMxx-04': 10,\n         'bWZ_Z5dgrb0': 10,\n         'nranUeNkXpM': 10,\n         'ooWd_9OAAUg': 10,\n         'doP7xKdGOKs': 10,\n         '7cqYiUmutGI': 10,\n         '6xUPaVfmcUs': 10,\n         'IPgdIHV_zMo': 10,\n         'YS2y_12IWlA': 10,\n         '6xMBmvevhj0': 10,\n         'm4faDISwSVo': 10,\n         'n0j_CX1S2es': 10,\n         'af6L1jBZGYA': 10,\n         'GYLBjScgb7o': 10,\n         'JNWwVDkj24g': 10,\n         'xYtsL9znopI': 10,\n         'jCb-WcxO5SU': 10,\n         '_0ovuLsnU1A': 10,\n         'h_cfN1t3flE': 10,\n         '1DQ9UTz5j8o': 10,\n         'htmLGVUqIos': 10,\n         'uwQX7nz0aUs': 10,\n         'phXTecbj6NI': 10,\n         'e6XeP9gQPmg': 10,\n         'YBgabneSziQ': 10,\n         'OvHskUT3XTI': 10,\n         ...})"
          },
          "metadata": {}
        }
      ]
    },
    {
      "cell_type": "markdown",
      "source": "Sorts the product IDs by count in descending order. ",
      "metadata": {}
    },
    {
      "cell_type": "code",
      "source": "# Sort the product IDs by count, in descending order\ntop_10_most_popular_product_ids = sorted(product_counts, key=lambda x: product_counts[x], reverse=True)[:10]",
      "metadata": {
        "trusted": true
      },
      "execution_count": 46,
      "outputs": []
    },
    {
      "cell_type": "code",
      "source": "# Print the top 10 most popular product IDs\nfor product_id in top_10_most_popular_product_ids:\n    print(product_id)",
      "metadata": {
        "trusted": true
      },
      "execution_count": 38,
      "outputs": [
        {
          "name": "stdout",
          "text": "WIV3xNz8NoM\nYI3tsmFsrOg\nQBL8IRJ5yHU\nt4pRQ0jn23Q\nr-3iathMo7o\nNBSAQenU2Bk\nvjSohj-Iclc\n2PH7dK6SLC8\n0zZ0Y_UZRBw\npFc6I0rgmgY\n",
          "output_type": "stream"
        }
      ]
    },
    {
      "cell_type": "markdown",
      "source": "## Authors",
      "metadata": {}
    },
    {
      "cell_type": "markdown",
      "source": "[Viktoriia Popovych](https://www.linkedin.com/in/viktoriia-popovych-4b478b262/)",
      "metadata": {}
    },
    {
      "cell_type": "code",
      "source": "",
      "metadata": {},
      "execution_count": null,
      "outputs": []
    }
  ]
}