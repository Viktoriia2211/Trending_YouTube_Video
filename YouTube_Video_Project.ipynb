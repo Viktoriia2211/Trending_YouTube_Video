{
  "metadata": {
    "language_info": {
      "codemirror_mode": {
        "name": "python",
        "version": 3
      },
      "file_extension": ".py",
      "mimetype": "text/x-python",
      "name": "python",
      "nbconvert_exporter": "python",
      "pygments_lexer": "ipython3",
      "version": "3.8"
    },
    "kernelspec": {
      "name": "python",
      "display_name": "Python (Pyodide)",
      "language": "python"
    }
  },
  "nbformat_minor": 4,
  "nbformat": 4,
  "cells": [
    {
      "cell_type": "markdown",
      "source": "# Trending YouTube Video\n",
      "metadata": {}
    },
    {
      "cell_type": "markdown",
      "source": "### Data Cleaning and Preprocessing",
      "metadata": {}
    },
    {
      "cell_type": "markdown",
      "source": "Imports the necessary libraries. Pandas is a Python library for data analysis and manipulation.",
      "metadata": {}
    },
    {
      "cell_type": "code",
      "source": "import pandas as pd",
      "metadata": {
        "trusted": true
      },
      "execution_count": 57,
      "outputs": []
    },
    {
      "cell_type": "markdown",
      "source": "Read the CSV file into a Pandas DataFrame:\n",
      "metadata": {}
    },
    {
      "cell_type": "code",
      "source": "df = pd.read_csv('USvideos.csv')",
      "metadata": {
        "trusted": true
      },
      "execution_count": 58,
      "outputs": []
    },
    {
      "cell_type": "code",
      "source": "df.head()",
      "metadata": {
        "trusted": true
      },
      "execution_count": 59,
      "outputs": [
        {
          "execution_count": 59,
          "output_type": "execute_result",
          "data": {
            "text/plain": "      video_id trending_date  \\\n0  2kyS6SvSYSE      17.14.11   \n1  1ZAPwfrtAFY      17.14.11   \n2  5qpjK5DgCt4      17.14.11   \n3  puqaWrEC7tY      17.14.11   \n4  d380meD0W0M      17.14.11   \n\n                                               title          channel_title  \\\n0                 WE WANT TO TALK ABOUT OUR MARRIAGE           CaseyNeistat   \n1  The Trump Presidency: Last Week Tonight with J...        LastWeekTonight   \n2  Racist Superman | Rudy Mancuso, King Bach & Le...           Rudy Mancuso   \n3                   Nickelback Lyrics: Real or Fake?  Good Mythical Morning   \n4                           I Dare You: GOING BALD!?               nigahiga   \n\n   category_id              publish_time  \\\n0           22  2017-11-13T17:13:01.000Z   \n1           24  2017-11-13T07:30:00.000Z   \n2           23  2017-11-12T19:05:24.000Z   \n3           24  2017-11-13T11:00:04.000Z   \n4           24  2017-11-12T18:01:41.000Z   \n\n                                                tags    views   likes  \\\n0                                    SHANtell martin   748374   57527   \n1  last week tonight trump presidency|\"last week ...  2418783   97185   \n2  racist superman|\"rudy\"|\"mancuso\"|\"king\"|\"bach\"...  3191434  146033   \n3  rhett and link|\"gmm\"|\"good mythical morning\"|\"...   343168   10172   \n4  ryan|\"higa\"|\"higatv\"|\"nigahiga\"|\"i dare you\"|\"...  2095731  132235   \n\n   dislikes  comment_count                                  thumbnail_link  \\\n0      2966          15954  https://i.ytimg.com/vi/2kyS6SvSYSE/default.jpg   \n1      6146          12703  https://i.ytimg.com/vi/1ZAPwfrtAFY/default.jpg   \n2      5339           8181  https://i.ytimg.com/vi/5qpjK5DgCt4/default.jpg   \n3       666           2146  https://i.ytimg.com/vi/puqaWrEC7tY/default.jpg   \n4      1989          17518  https://i.ytimg.com/vi/d380meD0W0M/default.jpg   \n\n   comments_disabled  ratings_disabled  video_error_or_removed  \\\n0              False             False                   False   \n1              False             False                   False   \n2              False             False                   False   \n3              False             False                   False   \n4              False             False                   False   \n\n                                         description  \n0  SHANTELL'S CHANNEL - https://www.youtube.com/s...  \n1  One year after the presidential election, John...  \n2  WATCH MY PREVIOUS VIDEO ▶ \\n\\nSUBSCRIBE ► http...  \n3  Today we find out if Link is a Nickelback amat...  \n4  I know it's been a while since we did this sho...  ",
            "text/html": "<div>\n<style scoped>\n    .dataframe tbody tr th:only-of-type {\n        vertical-align: middle;\n    }\n\n    .dataframe tbody tr th {\n        vertical-align: top;\n    }\n\n    .dataframe thead th {\n        text-align: right;\n    }\n</style>\n<table border=\"1\" class=\"dataframe\">\n  <thead>\n    <tr style=\"text-align: right;\">\n      <th></th>\n      <th>video_id</th>\n      <th>trending_date</th>\n      <th>title</th>\n      <th>channel_title</th>\n      <th>category_id</th>\n      <th>publish_time</th>\n      <th>tags</th>\n      <th>views</th>\n      <th>likes</th>\n      <th>dislikes</th>\n      <th>comment_count</th>\n      <th>thumbnail_link</th>\n      <th>comments_disabled</th>\n      <th>ratings_disabled</th>\n      <th>video_error_or_removed</th>\n      <th>description</th>\n    </tr>\n  </thead>\n  <tbody>\n    <tr>\n      <th>0</th>\n      <td>2kyS6SvSYSE</td>\n      <td>17.14.11</td>\n      <td>WE WANT TO TALK ABOUT OUR MARRIAGE</td>\n      <td>CaseyNeistat</td>\n      <td>22</td>\n      <td>2017-11-13T17:13:01.000Z</td>\n      <td>SHANtell martin</td>\n      <td>748374</td>\n      <td>57527</td>\n      <td>2966</td>\n      <td>15954</td>\n      <td>https://i.ytimg.com/vi/2kyS6SvSYSE/default.jpg</td>\n      <td>False</td>\n      <td>False</td>\n      <td>False</td>\n      <td>SHANTELL'S CHANNEL - https://www.youtube.com/s...</td>\n    </tr>\n    <tr>\n      <th>1</th>\n      <td>1ZAPwfrtAFY</td>\n      <td>17.14.11</td>\n      <td>The Trump Presidency: Last Week Tonight with J...</td>\n      <td>LastWeekTonight</td>\n      <td>24</td>\n      <td>2017-11-13T07:30:00.000Z</td>\n      <td>last week tonight trump presidency|\"last week ...</td>\n      <td>2418783</td>\n      <td>97185</td>\n      <td>6146</td>\n      <td>12703</td>\n      <td>https://i.ytimg.com/vi/1ZAPwfrtAFY/default.jpg</td>\n      <td>False</td>\n      <td>False</td>\n      <td>False</td>\n      <td>One year after the presidential election, John...</td>\n    </tr>\n    <tr>\n      <th>2</th>\n      <td>5qpjK5DgCt4</td>\n      <td>17.14.11</td>\n      <td>Racist Superman | Rudy Mancuso, King Bach &amp; Le...</td>\n      <td>Rudy Mancuso</td>\n      <td>23</td>\n      <td>2017-11-12T19:05:24.000Z</td>\n      <td>racist superman|\"rudy\"|\"mancuso\"|\"king\"|\"bach\"...</td>\n      <td>3191434</td>\n      <td>146033</td>\n      <td>5339</td>\n      <td>8181</td>\n      <td>https://i.ytimg.com/vi/5qpjK5DgCt4/default.jpg</td>\n      <td>False</td>\n      <td>False</td>\n      <td>False</td>\n      <td>WATCH MY PREVIOUS VIDEO ▶ \\n\\nSUBSCRIBE ► http...</td>\n    </tr>\n    <tr>\n      <th>3</th>\n      <td>puqaWrEC7tY</td>\n      <td>17.14.11</td>\n      <td>Nickelback Lyrics: Real or Fake?</td>\n      <td>Good Mythical Morning</td>\n      <td>24</td>\n      <td>2017-11-13T11:00:04.000Z</td>\n      <td>rhett and link|\"gmm\"|\"good mythical morning\"|\"...</td>\n      <td>343168</td>\n      <td>10172</td>\n      <td>666</td>\n      <td>2146</td>\n      <td>https://i.ytimg.com/vi/puqaWrEC7tY/default.jpg</td>\n      <td>False</td>\n      <td>False</td>\n      <td>False</td>\n      <td>Today we find out if Link is a Nickelback amat...</td>\n    </tr>\n    <tr>\n      <th>4</th>\n      <td>d380meD0W0M</td>\n      <td>17.14.11</td>\n      <td>I Dare You: GOING BALD!?</td>\n      <td>nigahiga</td>\n      <td>24</td>\n      <td>2017-11-12T18:01:41.000Z</td>\n      <td>ryan|\"higa\"|\"higatv\"|\"nigahiga\"|\"i dare you\"|\"...</td>\n      <td>2095731</td>\n      <td>132235</td>\n      <td>1989</td>\n      <td>17518</td>\n      <td>https://i.ytimg.com/vi/d380meD0W0M/default.jpg</td>\n      <td>False</td>\n      <td>False</td>\n      <td>False</td>\n      <td>I know it's been a while since we did this sho...</td>\n    </tr>\n  </tbody>\n</table>\n</div>"
          },
          "metadata": {}
        }
      ]
    },
    {
      "cell_type": "code",
      "source": "df.info()",
      "metadata": {
        "trusted": true
      },
      "execution_count": 60,
      "outputs": [
        {
          "name": "stdout",
          "text": "<class 'pandas.core.frame.DataFrame'>\nRangeIndex: 40949 entries, 0 to 40948\nData columns (total 16 columns):\n #   Column                  Non-Null Count  Dtype \n---  ------                  --------------  ----- \n 0   video_id                40949 non-null  object\n 1   trending_date           40949 non-null  object\n 2   title                   40949 non-null  object\n 3   channel_title           40949 non-null  object\n 4   category_id             40949 non-null  int64 \n 5   publish_time            40949 non-null  object\n 6   tags                    40949 non-null  object\n 7   views                   40949 non-null  int64 \n 8   likes                   40949 non-null  int64 \n 9   dislikes                40949 non-null  int64 \n 10  comment_count           40949 non-null  int64 \n 11  thumbnail_link          40949 non-null  object\n 12  comments_disabled       40949 non-null  bool  \n 13  ratings_disabled        40949 non-null  bool  \n 14  video_error_or_removed  40949 non-null  bool  \n 15  description             40379 non-null  object\ndtypes: bool(3), int64(5), object(8)\nmemory usage: 2.9+ MB\n",
          "output_type": "stream"
        }
      ]
    },
    {
      "cell_type": "markdown",
      "source": "Drops duplicate rows from the DataFrame.",
      "metadata": {}
    },
    {
      "cell_type": "code",
      "source": "# Remove duplicate rows\ndf = df.drop_duplicates()",
      "metadata": {
        "trusted": true
      },
      "execution_count": 61,
      "outputs": []
    },
    {
      "cell_type": "markdown",
      "source": "Handles missing values in the DataFrame by filling them with 0.",
      "metadata": {}
    },
    {
      "cell_type": "code",
      "source": "# Handle missing values\ndf['views'] = df['views'].fillna(0)\ndf['likes'] = df['likes'].fillna(0)\ndf['dislikes'] = df['dislikes'].fillna(0)\ndf['comment_count'] = df['comment_count'].fillna(0)",
      "metadata": {
        "trusted": true
      },
      "execution_count": 62,
      "outputs": []
    },
    {
      "cell_type": "markdown",
      "source": "Converts the category_id and publish_time columns to integer and datetime types, respectively.\n",
      "metadata": {}
    },
    {
      "cell_type": "code",
      "source": "# Convert data types\ndf['category_id'] = df['category_id'].astype('int')\ndf['publish_time'] = pd.to_datetime(df['publish_time'])",
      "metadata": {
        "trusted": true
      },
      "execution_count": 63,
      "outputs": []
    },
    {
      "cell_type": "markdown",
      "source": "Standardizes the feature names in the DataFrame by renaming the category_id column to category_id_numeric.",
      "metadata": {}
    },
    {
      "cell_type": "code",
      "source": "# Standardize feature names\ndf = df.rename(columns={'category_id': 'category_id_numeric'})",
      "metadata": {
        "trusted": true
      },
      "execution_count": 64,
      "outputs": []
    },
    {
      "cell_type": "markdown",
      "source": "Adds new features to the DataFrame by extracting the video category from the tags column",
      "metadata": {}
    },
    {
      "cell_type": "code",
      "source": "# Add new features\ndf['video_category'] = df['tags'].apply(lambda x: x.split('\"')[0])",
      "metadata": {
        "trusted": true
      },
      "execution_count": 65,
      "outputs": []
    },
    {
      "cell_type": "markdown",
      "source": "Removes outliers from the DataFrame by dropping rows where the views, likes, or dislikes columns are greater than 1 million.",
      "metadata": {}
    },
    {
      "cell_type": "code",
      "source": "# Remove outliers\ndf = df.drop(df[(df['views'] > 10000000) | (df['likes'] > 1000000) | (df['dislikes'] > 1000000)].index)",
      "metadata": {
        "trusted": true
      },
      "execution_count": 66,
      "outputs": []
    },
    {
      "cell_type": "code",
      "source": "# Split the data into training and test sets\nfrom sklearn.model_selection import train_test_split\n\nX_train, X_test, y_train, y_test = train_test_split(df, df['views'], test_size=0.25, random_state=42)",
      "metadata": {
        "trusted": true
      },
      "execution_count": 67,
      "outputs": []
    },
    {
      "cell_type": "markdown",
      "source": "The training set will be used to train the machine learning model, and the test set will be used to evaluate the performance of the model.",
      "metadata": {}
    },
    {
      "cell_type": "markdown",
      "source": "## Identifiy the top 10 most popular products in a video dataset.",
      "metadata": {}
    },
    {
      "cell_type": "code",
      "source": "from collections import Counter",
      "metadata": {
        "trusted": true
      },
      "execution_count": 68,
      "outputs": []
    },
    {
      "cell_type": "markdown",
      "source": "Converts the Pandas Series object containing the product IDs to a list.",
      "metadata": {}
    },
    {
      "cell_type": "code",
      "source": "# Extract the product IDs from the video data\nproduct_ids = df['video_id'].tolist()",
      "metadata": {
        "trusted": true
      },
      "execution_count": 69,
      "outputs": []
    },
    {
      "cell_type": "markdown",
      "source": "Count the number of times each product ID appears in the list of product IDs. The output of the Counter class is a dictionary where the keys are the product IDs and the values are the number of times each product ID appears in the list.",
      "metadata": {}
    },
    {
      "cell_type": "code",
      "source": "# Count the number of times each product ID appears in the video data\nproduct_counts = Counter(product_ids)\n",
      "metadata": {
        "trusted": true
      },
      "execution_count": 70,
      "outputs": []
    },
    {
      "cell_type": "markdown",
      "source": "Sorts the product IDs by count in descending order. ",
      "metadata": {}
    },
    {
      "cell_type": "code",
      "source": "# Sort the product IDs by count, in descending order\ntop_10_most_popular_product_ids = sorted(product_counts, key=lambda x: product_counts[x], reverse=True)[:10]",
      "metadata": {
        "trusted": true
      },
      "execution_count": 71,
      "outputs": []
    },
    {
      "cell_type": "code",
      "source": "# Print the top 10 most popular product IDs\nfor product_id in top_10_most_popular_product_ids:\n    print(product_id)",
      "metadata": {
        "trusted": true
      },
      "execution_count": 72,
      "outputs": [
        {
          "name": "stdout",
          "text": "WIV3xNz8NoM\nYI3tsmFsrOg\nQBL8IRJ5yHU\nt4pRQ0jn23Q\nr-3iathMo7o\nNBSAQenU2Bk\nvjSohj-Iclc\n2PH7dK6SLC8\n0zZ0Y_UZRBw\npFc6I0rgmgY\n",
          "output_type": "stream"
        }
      ]
    },
    {
      "cell_type": "markdown",
      "source": "## Authors",
      "metadata": {}
    },
    {
      "cell_type": "markdown",
      "source": "[Viktoriia Popovych](https://www.linkedin.com/in/viktoriia-popovych-4b478b262/)",
      "metadata": {}
    }
  ]
}